{
 "cells": [
  {
   "cell_type": "markdown",
   "metadata": {},
   "source": [
    "# Solving Quadratic Equations\n",
    "\n",
    "A quadratic equation has three differing numbers and two variables, written in the \" $ ax^2 + bx + c $ \" format. \n",
    "To begin solving for x, take the numbers in the a, b, and c positions, and place them in their letter's spaces in the quadratic formula as it is listed below.\n",
    "\n",
    "$$ x = \\frac{-b \\pm \\sqrt{b^2 -4ac}}{2a} $$\n",
    "\n",
    "Then, you solve for the numbers inside of the radical:\n",
    "\n",
    "$$  \\sqrt{b^2 - 4ac} $$\n",
    "\n",
    "Square b, multiply 4 by a and c, and subtract the product of the latter from the squared b. Once you have only one number inside the radical, find the square root of that number (this will be called \"r\" here).\n",
    "Place the number you have found back in the formula like so:\n",
    "\n",
    "$$ x = \\frac{-b \\pm r}{2a} $$\n",
    "\n",
    "Now, to finish, you would put the $ \\pm $ to use; turn the one equation you are left with into two. One will be used to subtract and simplify, and the other will be used to add and simplify.\n",
    "\n",
    "#### Subtract: \n",
    "(subtract in the numerator then divide by the denominator)\n",
    "$$ x = \\frac{-b - r}{2a} $$  \n",
    "            \n",
    "#### Add:\n",
    "(add in the numerator then divide by the denominator)\n",
    "$$ x = \\frac{-b + r}{2a} $$\n",
    "\n",
    "##### The numbers you are left with from the two equations are your values for x.     \n",
    " <br>     \n",
    "#### Note: \n",
    "   sometimes you can't find the square root of a number or are left with an imaginary number. If this is the case, leave your answers in their complex form:\n",
    "   \n",
    "$$ x = \\frac{-b}{2a} \\pm \\frac{r}{2a} $$\n",
    "\n",
    "\n",
    "Don't forget to split this into two equations like above; one for adding and one for subtracting."
   ]
  },
  {
   "cell_type": "code",
   "execution_count": null,
   "metadata": {
    "collapsed": true
   },
   "outputs": [],
   "source": []
  },
  {
   "cell_type": "code",
   "execution_count": null,
   "metadata": {
    "collapsed": true
   },
   "outputs": [],
   "source": []
  }
 ],
 "metadata": {
  "kernelspec": {
   "display_name": "Python 3",
   "language": "python",
   "name": "python3"
  },
  "language_info": {
   "codemirror_mode": {
    "name": "ipython",
    "version": 3
   },
   "file_extension": ".py",
   "mimetype": "text/x-python",
   "name": "python",
   "nbconvert_exporter": "python",
   "pygments_lexer": "ipython3",
   "version": "3.4.4"
  }
 },
 "nbformat": 4,
 "nbformat_minor": 0
}
